{
 "cells": [
  {
   "cell_type": "code",
   "execution_count": null,
   "id": "5f68eb9e-4b5b-4d6b-823a-e134bb9c2c03",
   "metadata": {
    "scrolled": true
   },
   "outputs": [],
   "source": [
    "from aktools import catchpoint as cp\n",
    "\n",
    "status_code,enum = cp.get_enumerations()\n",
    "status_code"
   ]
  },
  {
   "cell_type": "code",
   "execution_count": 2,
   "id": "41c315f6-deab-4abd-b1fa-8ee632dffa42",
   "metadata": {},
   "outputs": [
    {
     "ename": "NameError",
     "evalue": "name 'enum' is not defined",
     "output_type": "error",
     "traceback": [
      "\u001b[0;31m---------------------------------------------------------------------------\u001b[0m",
      "\u001b[0;31mNameError\u001b[0m                                 Traceback (most recent call last)",
      "Cell \u001b[0;32mIn[2], line 1\u001b[0m\n\u001b[0;32m----> 1\u001b[0m \u001b[43menum\u001b[49m\u001b[38;5;241m.\u001b[39mkeys()\n",
      "\u001b[0;31mNameError\u001b[0m: name 'enum' is not defined"
     ]
    }
   ],
   "source": [
    "enum.keys()"
   ]
  },
  {
   "cell_type": "code",
   "execution_count": null,
   "id": "d89befdd-e9f2-4dee-a250-9ede32b91f70",
   "metadata": {},
   "outputs": [],
   "source": [
    "enum['Dimensions']\n"
   ]
  },
  {
   "cell_type": "code",
   "execution_count": 1,
   "id": "9a5c7ae7-0991-46d0-b085-87fa904cdda1",
   "metadata": {},
   "outputs": [
    {
     "ename": "NameError",
     "evalue": "name 'enum' is not defined",
     "output_type": "error",
     "traceback": [
      "\u001b[0;31m---------------------------------------------------------------------------\u001b[0m",
      "\u001b[0;31mNameError\u001b[0m                                 Traceback (most recent call last)",
      "Cell \u001b[0;32mIn[1], line 1\u001b[0m\n\u001b[0;32m----> 1\u001b[0m \u001b[43menum\u001b[49m[\u001b[38;5;124m'\u001b[39m\u001b[38;5;124mMetrics\u001b[39m\u001b[38;5;124m'\u001b[39m]\n",
      "\u001b[0;31mNameError\u001b[0m: name 'enum' is not defined"
     ]
    }
   ],
   "source": [
    "enum['Metrics']"
   ]
  },
  {
   "cell_type": "code",
   "execution_count": null,
   "id": "d4d03ac5-d030-4624-833e-536d076136d9",
   "metadata": {},
   "outputs": [],
   "source": [
    "enum['SubSourceTypes']"
   ]
  },
  {
   "cell_type": "code",
   "execution_count": 3,
   "id": "c85f0bb0-9886-4f2e-87bb-ba1fe4182c6e",
   "metadata": {
    "scrolled": true
   },
   "outputs": [
    {
     "name": "stdout",
     "output_type": "stream",
     "text": [
      "2024-07-10 20:38:54,198 <cp_utils.py:_fetch_test_data:414> [DEBUG] \n",
      "2024-07-10 20:38:54,201 <cp_utils.py:_fetch_test_data:450> [DEBUG] ['2591077', '2591077', '2591077']\n",
      "2024-07-10 20:38:54,202 <cp_utils.py:_fetch_test_data:464> [DEBUG] test ids to fetch: 3\n",
      "2024-07-10 20:38:54,202 <cp_utils.py:_fetch_test_data:466> [DEBUG] Param: testIds=2591077,2591077,2591077\n",
      "2024-07-10 20:38:54,203 <cp_utils.py:_fetch_test_data:466> [DEBUG] Param: startTime=2024-07-11T03:23:54\n",
      "2024-07-10 20:38:54,204 <cp_utils.py:_fetch_test_data:466> [DEBUG] Param: endTime=2024-07-11T03:38:54\n",
      "2024-07-10 20:38:54,204 <cp_utils.py:_fetch_test_data:466> [DEBUG] Param: interval=6\n",
      "2024-07-10 20:38:54,205 <cp_utils.py:_fetch_test_data:466> [DEBUG] Param: metricIds=1,2,30,4,5,201,15,25,26,27,43\n",
      "2024-07-10 20:38:54,205 <cp_utils.py:_fetch_test_data:466> [DEBUG] Param: dimensionIds=4,7,2,19,1,6,22,21,15\n",
      "2024-07-10 20:38:54,206 <cp_utils.py:_fetch_test_data:466> [DEBUG] Param: subSourceIds=4\n",
      "2024-07-10 20:38:56,044 <cp_utils.py:_extract_test_data:298> [DEBUG] \n",
      "2024-07-10 20:38:56,045 <cp_utils.py:_extract_test_data:327> [DEBUG] Dimension names:['time', 'host', 'country', 'city', 'hostip', 'node', 'step', 'continent', 'tracepointvalue', 'asn', 'test']\n",
      "2024-07-10 20:38:56,046 <cp_utils.py:_extract_test_data:328> [DEBUG] Metric names:['dns_ms', 'connect_ms', 'ssl_ms', 'wait_ms', 'time_to_first_byte_ms', 'response_ms', 'pct_availability', 'cnt_connection_failures', 'cnt_ssl_failures', 'cnt_response_failures', 'cnt_timeout_failures']\n",
      "2024-07-10 20:38:56,048 <cp_utils.py:_extract_test_data:383> [DEBUG] Expected data points in current data set: 454\n",
      "2024-07-10 20:38:56,049 <cp_utils.py:_extract_test_data:384> [DEBUG] Extracted data points: 454\n",
      "2024-07-10 20:38:56,050 <cp_utils.py:_extract_test_data:385> [DEBUG] Outliers found: (Included): 1\n",
      "2024-07-10 20:38:56,050 <cp_utils.py:_extract_test_data:386> [DEBUG] Failures found: (Included): 0\n",
      "2024-07-10 20:38:56,051 <cp_utils.py:_extract_test_data:387> [DEBUG] Total data points excluded: 0\n",
      "2024-07-10 20:38:56,051 <cp_utils.py:_extract_test_data:388> [DEBUG] Potential outliers(included): 14\n",
      "2024-07-10 20:38:56,052 <cp_utils.py:_extract_test_data:389> [DEBUG] Data field mismatch count 0\n"
     ]
    },
    {
     "data": {
      "text/plain": [
       "200"
      ]
     },
     "execution_count": 3,
     "metadata": {},
     "output_type": "execute_result"
    }
   ],
   "source": [
    "from aktools import catchpoint as cp\n",
    "status_code, data = cp.get_data(test_id='2591077', data_type='raw', time_delta = 0.25)\n",
    "status_code"
   ]
  },
  {
   "cell_type": "code",
   "execution_count": 16,
   "id": "006e44e8-7787-4d1b-b4b0-8187f13a05dc",
   "metadata": {
    "scrolled": true
   },
   "outputs": [
    {
     "data": {
      "text/plain": [
       "[{'id': 10524, 'index': 0, 'name': 'ak_default_ipv6_ip'},\n",
       " {'id': 10516, 'index': 1, 'name': 'ak_eip_forward_ip'},\n",
       " {'id': 10517, 'index': 2, 'name': 'ak_ghost_ip'},\n",
       " {'id': 10525, 'index': 3, 'name': 'ak_ghost_service_ip'},\n",
       " {'id': 10539, 'index': 4, 'name': 'ak_hdrs'},\n",
       " {'id': 10523, 'index': 5, 'name': 'ak_map'},\n",
       " {'id': 10520, 'index': 6, 'name': 'AK_PROTOCOL_NEGOTIATION'},\n",
       " {'id': 10521, 'index': 7, 'name': 'AK_QUIC_EARLY_DATA'},\n",
       " {'id': 10522, 'index': 8, 'name': 'AK_TLS_CIPHER_NAME'},\n",
       " {'id': 10527, 'index': 9, 'name': 'AK_TLS_SNI_NAME'},\n",
       " {'id': 10526, 'index': 10, 'name': 'AK_TLS_VERSION'},\n",
       " {'id': 10538, 'index': 11, 'name': 'akamai-request-bc'},\n",
       " {'id': 9445, 'index': 12, 'name': 'brave'},\n",
       " {'id': 9444, 'index': 13, 'name': 'client'},\n",
       " {'id': 10519, 'index': 14, 'name': 'client_city'},\n",
       " {'id': 10518, 'index': 15, 'name': 'client_country_code'},\n",
       " {'id': 9758, 'index': 16, 'name': 'cloudflare'},\n",
       " {'id': 10545, 'index': 17, 'name': 'es_hdrs'},\n",
       " {'id': 9446, 'index': 18, 'name': 'ghost'},\n",
       " {'id': 9759, 'index': 19, 'name': 'google'},\n",
       " {'id': 9876, 'index': 20, 'name': 'servertiming'},\n",
       " {'id': 9877, 'index': 21, 'name': 'servertiming_ori'},\n",
       " {'id': 8704, 'index': 22, 'name': 'x-cache'},\n",
       " {'id': 10462, 'index': 23, 'name': 'x-cache2'}]"
      ]
     },
     "execution_count": 16,
     "metadata": {},
     "output_type": "execute_result"
    }
   ],
   "source": [
    "response_data['data']['responseItems'][0]['tracepoints']"
   ]
  },
  {
   "cell_type": "code",
   "execution_count": 28,
   "id": "ed5af839-c886-40a9-b780-99eb11a0c03a",
   "metadata": {},
   "outputs": [
    {
     "ename": "TypeError",
     "evalue": "list indices must be integers or slices, not str",
     "output_type": "error",
     "traceback": [
      "\u001b[0;31m---------------------------------------------------------------------------\u001b[0m",
      "\u001b[0;31mTypeError\u001b[0m                                 Traceback (most recent call last)",
      "Cell \u001b[0;32mIn[28], line 7\u001b[0m\n\u001b[1;32m      5\u001b[0m aka_data \u001b[38;5;241m=\u001b[39m {}\n\u001b[1;32m      6\u001b[0m \u001b[38;5;28;01mfor\u001b[39;00m i \u001b[38;5;129;01min\u001b[39;00m aka_data_list:\n\u001b[0;32m----> 7\u001b[0m     key,value \u001b[38;5;241m=\u001b[39m  \u001b[43maka_data_list\u001b[49m\u001b[43m[\u001b[49m\u001b[43mi\u001b[49m\u001b[43m]\u001b[49m\u001b[38;5;241m.\u001b[39msplit(\u001b[38;5;124m'\u001b[39m\u001b[38;5;124m:\u001b[39m\u001b[38;5;124m'\u001b[39m)\n\u001b[1;32m      8\u001b[0m     aka_data[key] \u001b[38;5;241m=\u001b[39m value\n\u001b[1;32m      9\u001b[0m aka_data\n",
      "\u001b[0;31mTypeError\u001b[0m: list indices must be integers or slices, not str"
     ]
    }
   ],
   "source": [
    "response_data=data.response_data\n",
    "aka_data_raw = response_data['data']['responseItems'][0]['items'][2]['tracepoints'][4]\n",
    "import json\n",
    "aka_data_list = json.dumps(aka_data_raw.split('\\r\\n')).split(',')\n",
    "aka_data = {}\n",
    "for i in aka_data_list:\n",
    "    key,value =  aka_data_list[i].split(':')\n",
    "    aka_data[key] = value\n",
    "aka_data"
   ]
  },
  {
   "cell_type": "code",
   "execution_count": null,
   "id": "0ffd344b-ffe5-4bb1-b0d8-fb90038bf44d",
   "metadata": {},
   "outputs": [],
   "source": []
  }
 ],
 "metadata": {
  "kernelspec": {
   "display_name": "Python 3 (ipykernel)",
   "language": "python",
   "name": "python3"
  },
  "language_info": {
   "codemirror_mode": {
    "name": "ipython",
    "version": 3
   },
   "file_extension": ".py",
   "mimetype": "text/x-python",
   "name": "python",
   "nbconvert_exporter": "python",
   "pygments_lexer": "ipython3",
   "version": "3.10.12"
  },
  "widgets": {
   "application/vnd.jupyter.widget-state+json": {
    "state": {},
    "version_major": 2,
    "version_minor": 0
   }
  }
 },
 "nbformat": 4,
 "nbformat_minor": 5
}
