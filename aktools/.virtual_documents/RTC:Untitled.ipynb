from aktools import catchpoint as cp
status_code, data = cp.get_data(test_id='2591077', time_delta = 0.5, api_key="D54434B600B48F749541E7AEB1969865025D4C8567ED09E1ED77434DA78D9E66")
status_code






