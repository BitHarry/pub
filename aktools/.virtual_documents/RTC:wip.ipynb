from aktools import catchpoint as cp

status_code,enum = cp.get_enumerations()
status_code


ServerApp.iopub_data_rate_limit=2000000.0
ServerApp.rate_limit_window=6.0 


enum['Dimensions']



enum['Metrics']


enum['SubSourceTypes']


from aktools import catchpoint as cp
status_code, data = cp.get_data(test_id='2591077', time_delta = 0.5, api_key="D54434B600B48F749541E7AEB1969865025D4C8567ED09E1ED77434DA78D9E66")
status_code


import json
response_data=data.response_data
response_items = response_data['data']['responseItems']
print(json.dumps(response_items, indent=4))


response_data=data.response_data
aka_data_raw = response_data['data']['responseItems'][0]['items'][2]['tracepoints'][4]
import json
aka_data_list = aka_data_raw.replace(': ', ':').split('\r\n')
print(aka_data_list)
aka_data = {}
for item in aka_data_list:
    key,value = item.split(':',1)
    aka_data[key] = value
aka_data.pop('x-check-cacheable', None)
aka_data.pop('content-type', None)
aka_data.pop('content-type', None)
server_timing =  aka_data.pop('server-timing', None)
akamai_request_bc = aka_data.pop('akamai-request-bc', None)

print("\n\n", json.dumps(aka_data, indent=2))


#
from aktools import LOGGER as logger
import json



def hdrs_to_dict(hdrs:str)-> dict:
    hdr_list = hdrs.replace(': ', ':').split('\r\n')
    hdr_data = {}
    for item in hdr_list:
        key,value = item.split(':',1)
        hdr_data[key.lower()] = value
    hdr_data.pop('x-check-cacheable', None)
    hdr_data.pop('content-type', None)
    hdr_data.pop('server-timing', None)
    bc = hdr_data.pop('akamai-request-bc', None)
    bc = bc.strip("[]")
    bc_list = bc.split(',')
    region_location = None
    region_asn = None
    for pair in bc_list:
        key, value = pair.split('=')
        if key == 'n':
            region_location = value
        elif key == 'o':
            region_asn = value
    hdr_data['region_location'] = region_location
    hdr_data['region_asn'] = region_asn
    #logger.debug("Header Extracted: " + hdr_data.keys())
    empty_keys = [k for k in hdr_data if not hdr_data[k] or hdr_data[k].strip()=='']
    if len(empty_keys) > 0:
        logger.debug(f"Headers with no values: {empty_keys}")
    return hdr_data


response_data=data.response_data
hdrs_to_dict(esponse_data['data']['responseItems'][0]['items'][2]['tracepoints'][4][0])
    
    







