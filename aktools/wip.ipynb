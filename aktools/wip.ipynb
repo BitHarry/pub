{
 "cells": [
  {
   "cell_type": "code",
   "execution_count": null,
   "id": "5f68eb9e-4b5b-4d6b-823a-e134bb9c2c03",
   "metadata": {
    "scrolled": true
   },
   "outputs": [],
   "source": [
    "from aktools import catchpoint as cp\n",
    "\n",
    "status_code,enum = cp.get_enumerations()\n",
    "status_code"
   ]
  },
  {
   "cell_type": "code",
   "execution_count": null,
   "id": "41c315f6-deab-4abd-b1fa-8ee632dffa42",
   "metadata": {},
   "outputs": [],
   "source": [
    "ServerApp.iopub_data_rate_limit=2000000.0\n",
    "ServerApp.rate_limit_window=6.0 "
   ]
  },
  {
   "cell_type": "code",
   "execution_count": null,
   "id": "d89befdd-e9f2-4dee-a250-9ede32b91f70",
   "metadata": {},
   "outputs": [],
   "source": [
    "enum['Dimensions']\n"
   ]
  },
  {
   "cell_type": "code",
   "execution_count": null,
   "id": "9a5c7ae7-0991-46d0-b085-87fa904cdda1",
   "metadata": {},
   "outputs": [],
   "source": [
    "enum['Metrics']"
   ]
  },
  {
   "cell_type": "code",
   "execution_count": null,
   "id": "d4d03ac5-d030-4624-833e-536d076136d9",
   "metadata": {},
   "outputs": [],
   "source": [
    "enum['SubSourceTypes']"
   ]
  },
  {
   "cell_type": "code",
   "execution_count": 1,
   "id": "c85f0bb0-9886-4f2e-87bb-ba1fe4182c6e",
   "metadata": {},
   "outputs": [
    {
     "name": "stdout",
     "output_type": "stream",
     "text": [
      "2024-07-12 16:39:57,786 <cp_utils.py:_fetch_test_data:495> [DEBUG] ---\n",
      "2024-07-12 16:39:57,788 <cp_utils.py:_fetch_test_data:509> [DEBUG] fetching single test id 2591077\n",
      "2024-07-12 16:39:57,788 <cp_utils.py:_fetch_test_data:540> [DEBUG] total tests to fetch: 1\n",
      "2024-07-12 16:39:57,788 <cp_utils.py:_fetch_test_data:555> [DEBUG] Param: testIds=2591077\n",
      "2024-07-12 16:39:57,789 <cp_utils.py:_fetch_test_data:555> [DEBUG] Param: startTime=2024-07-12T23:09:57\n",
      "2024-07-12 16:39:57,789 <cp_utils.py:_fetch_test_data:555> [DEBUG] Param: endTime=2024-07-12T23:39:57\n",
      "2024-07-12 16:39:57,790 <cp_utils.py:_fetch_test_data:555> [DEBUG] Param: interval=6\n",
      "2024-07-12 16:39:57,790 <cp_utils.py:_fetch_test_data:555> [DEBUG] Param: metricIds=1,2,30,4,5,201,15,25,26,27,43\n",
      "2024-07-12 16:39:57,791 <cp_utils.py:_fetch_test_data:555> [DEBUG] Param: dimensionIds=4,7,2,19,1,6,22,21,15\n",
      "2024-07-12 16:39:57,791 <cp_utils.py:_fetch_test_data:555> [DEBUG] Param: subSourceIds=4\n",
      "2024-07-12 16:39:58,123 <cp_utils.py:_fetch_test_data:564> [ERROR] Req https://io.catchpoint.com/api/v2/tests/explorer/aggregated?testIds=2591077&startTime=2024-07-12T23%3A09%3A57&endTime=2024-07-12T23%3A39%3A57&interval=6&metricIds=1%2C2%2C30%2C4%2C5%2C201%2C15%2C25%2C26%2C27%2C43&dimensionIds=4%2C7%2C2%2C19%2C1%2C6%2C22%2C21%2C15&subSourceIds=4 error 429\n",
      "2024-07-12 16:39:58,125 <cp_utils.py:_fetch_test_data:565> [DEBUG] Response: {\"Errors\":\"Please wait for a day before making the next request\"}\n"
     ]
    },
    {
     "data": {
      "text/plain": [
       "429"
      ]
     },
     "execution_count": 1,
     "metadata": {},
     "output_type": "execute_result"
    }
   ],
   "source": [
    "from aktools import catchpoint as cp\n",
    "status_code, data = cp.get_data(test_id='2591077', time_delta = 0.5, api_key=\"D54434B600B48F749541E7AEB1969865025D4C8567ED09E1ED77434DA78D9E66\")\n",
    "status_code"
   ]
  },
  {
   "cell_type": "code",
   "execution_count": null,
   "id": "006e44e8-7787-4d1b-b4b0-8187f13a05dc",
   "metadata": {},
   "outputs": [],
   "source": [
    "import json\n",
    "response_data=data.response_data\n",
    "response_items = response_data['data']['responseItems']\n",
    "print(json.dumps(response_items, indent=4))"
   ]
  },
  {
   "cell_type": "code",
   "execution_count": null,
   "id": "ed5af839-c886-40a9-b780-99eb11a0c03a",
   "metadata": {},
   "outputs": [],
   "source": [
    "response_data=data.response_data\n",
    "aka_data_raw = response_data['data']['responseItems'][0]['items'][2]['tracepoints'][4]\n",
    "import json\n",
    "aka_data_list = aka_data_raw.replace(': ', ':').split('\\r\\n')\n",
    "print(aka_data_list)\n",
    "aka_data = {}\n",
    "for item in aka_data_list:\n",
    "    key,value = item.split(':',1)\n",
    "    aka_data[key] = value\n",
    "aka_data.pop('x-check-cacheable', None)\n",
    "aka_data.pop('content-type', None)\n",
    "aka_data.pop('content-type', None)\n",
    "server_timing =  aka_data.pop('server-timing', None)\n",
    "akamai_request_bc = aka_data.pop('akamai-request-bc', None)\n",
    "\n",
    "print(\"\\n\\n\", json.dumps(aka_data, indent=2))"
   ]
  },
  {
   "cell_type": "code",
   "execution_count": null,
   "id": "0ffd344b-ffe5-4bb1-b0d8-fb90038bf44d",
   "metadata": {},
   "outputs": [],
   "source": [
    "#\n",
    "from aktools import LOGGER as logger\n",
    "import json\n",
    "\n",
    "\n",
    "\n",
    "def hdrs_to_dict(hdrs:str)-> dict:\n",
    "    hdr_list = hdrs.replace(': ', ':').split('\\r\\n')\n",
    "    hdr_data = {}\n",
    "    for item in hdr_list:\n",
    "        key,value = item.split(':',1)\n",
    "        hdr_data[key.lower()] = value\n",
    "    hdr_data.pop('x-check-cacheable', None)\n",
    "    hdr_data.pop('content-type', None)\n",
    "    hdr_data.pop('server-timing', None)\n",
    "    bc = hdr_data.pop('akamai-request-bc', None)\n",
    "    bc = bc.strip(\"[]\")\n",
    "    bc_list = bc.split(',')\n",
    "    region_location = None\n",
    "    region_asn = None\n",
    "    for pair in bc_list:\n",
    "        key, value = pair.split('=')\n",
    "        if key == 'n':\n",
    "            region_location = value\n",
    "        elif key == 'o':\n",
    "            region_asn = value\n",
    "    hdr_data['region_location'] = region_location\n",
    "    hdr_data['region_asn'] = region_asn\n",
    "    #logger.debug(\"Header Extracted: \" + hdr_data.keys())\n",
    "    empty_keys = [k for k in hdr_data if not hdr_data[k] or hdr_data[k].strip()=='']\n",
    "    if len(empty_keys) > 0:\n",
    "        logger.debug(f\"Headers with no values: {empty_keys}\")\n",
    "    return hdr_data\n",
    "\n",
    "\n",
    "response_data=data.response_data\n",
    "hdrs_to_dict(esponse_data['data']['responseItems'][0]['items'][2]['tracepoints'][4][0])\n",
    "    \n",
    "    \n",
    "\n",
    "\n",
    "\n"
   ]
  },
  {
   "cell_type": "code",
   "execution_count": null,
   "id": "650c60aa-a8e2-4c3d-b551-e50618ac5abb",
   "metadata": {},
   "outputs": [],
   "source": []
  }
 ],
 "metadata": {
  "kernelspec": {
   "display_name": "Python 3 (ipykernel)",
   "language": "python",
   "name": "python3"
  },
  "language_info": {
   "codemirror_mode": {
    "name": "ipython",
    "version": 3
   },
   "file_extension": ".py",
   "mimetype": "text/x-python",
   "name": "python",
   "nbconvert_exporter": "python",
   "pygments_lexer": "ipython3",
   "version": "3.10.12"
  },
  "widgets": {
   "application/vnd.jupyter.widget-state+json": {
    "state": {},
    "version_major": 2,
    "version_minor": 0
   }
  }
 },
 "nbformat": 4,
 "nbformat_minor": 5
}
